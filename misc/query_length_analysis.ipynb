{
 "cells": [
  {
   "cell_type": "code",
   "execution_count": 1,
   "metadata": {},
   "outputs": [
    {
     "name": "stderr",
     "output_type": "stream",
     "text": [
      "/root/CS726/.env/lib/python3.12/site-packages/tqdm/auto.py:21: TqdmWarning: IProgress not found. Please update jupyter and ipywidgets. See https://ipywidgets.readthedocs.io/en/stable/user_install.html\n",
      "  from .autonotebook import tqdm as notebook_tqdm\n"
     ]
    }
   ],
   "source": [
    "from pathlib import Path\n",
    "import json\n",
    "\n",
    "import pandas as pd\n",
    "\n",
    "from transformers import AutoTokenizer"
   ]
  },
  {
   "cell_type": "code",
   "execution_count": 3,
   "metadata": {},
   "outputs": [],
   "source": [
    "tokenizer = AutoTokenizer.from_pretrained(\"seeklhy/codes-3b-spider\")\n",
    "\n",
    "print(tokenizer(\"[LEFT_CHILD]\"))"
   ]
  },
  {
   "cell_type": "code",
   "execution_count": 13,
   "metadata": {},
   "outputs": [
    {
     "data": {
      "text/plain": [
       "{'input_ids': [1206, 328], 'attention_mask': [1, 1]}"
      ]
     },
     "execution_count": 13,
     "metadata": {},
     "output_type": "execute_result"
    }
   ],
   "source": [
    "tokenizer(\"not in\")"
   ]
  },
  {
   "cell_type": "code",
   "execution_count": 22,
   "metadata": {},
   "outputs": [],
   "source": [
    "foo = [\"union\", \"intersection\", \"difference\", \"selection\", \"projection\", \"and\", \"or\", \"greater than\", \"gte\", \"less than\", \"less than or equal to\", \"order by ascending\", \"order by descending\", \"group by\", \"limit\", \"in\", \"not in\", \"like\", \"not like\", \"sum\", \"max\", \"min\", \"count\", \"average\", \"distinct\", \"keep\"]"
   ]
  },
  {
   "cell_type": "code",
   "execution_count": 21,
   "metadata": {},
   "outputs": [
    {
     "name": "stdout",
     "output_type": "stream",
     "text": [
      "[13304] union\n",
      "[11232] intersection\n",
      "[21034] difference\n",
      "[8319] selection\n",
      "[9886] projection\n",
      "[363] and\n",
      "[271] or\n",
      "[24744, 2784] greater than\n",
      "[33597] gte\n",
      "[2274, 2784] less than\n",
      "[2274, 2784, 556, 5040, 372] less than or equal to\n",
      "[1174, 810, 28286] order by ascending\n",
      "[1174, 810, 37053] order by descending\n",
      "[1363, 810] group by\n",
      "[3248] limit\n",
      "[11001, 788] belong\n",
      "[1206, 328] not in\n",
      "[6228] like\n",
      "[1206, 2124] not like\n",
      "[1036] sum\n",
      "[1449] max\n",
      "[887] min\n",
      "[998] count\n",
      "[14298] average\n",
      "[25524] distinct\n",
      "[10504] keep\n"
     ]
    }
   ],
   "source": [
    "x = tokenizer(foo)\n",
    "for i, j in zip(x['input_ids'], foo):\n",
    "    print(i, j)"
   ]
  },
  {
   "cell_type": "code",
   "execution_count": 3,
   "metadata": {},
   "outputs": [],
   "source": [
    "PATH_DS = Path('data')\n",
    "PATH_BIRD_SQL = PATH_DS / 'bird_sql'\n",
    "PATH_SPIDER_SQL = PATH_DS / 'spider'"
   ]
  },
  {
   "cell_type": "code",
   "execution_count": 11,
   "metadata": {},
   "outputs": [],
   "source": [
    "with open(PATH_SPIDER_SQL / 'processed' / 'train_gold.json') as f:\n",
    "    df_bird = pd.DataFrame(json.load(f))\n",
    "    df_bird.set_index('question_id', inplace=True)"
   ]
  },
  {
   "cell_type": "code",
   "execution_count": 12,
   "metadata": {},
   "outputs": [
    {
     "data": {
      "text/html": [
       "<div>\n",
       "<style scoped>\n",
       "    .dataframe tbody tr th:only-of-type {\n",
       "        vertical-align: middle;\n",
       "    }\n",
       "\n",
       "    .dataframe tbody tr th {\n",
       "        vertical-align: top;\n",
       "    }\n",
       "\n",
       "    .dataframe thead th {\n",
       "        text-align: right;\n",
       "    }\n",
       "</style>\n",
       "<table border=\"1\" class=\"dataframe\">\n",
       "  <thead>\n",
       "    <tr style=\"text-align: right;\">\n",
       "      <th></th>\n",
       "      <th>db_id</th>\n",
       "      <th>question</th>\n",
       "      <th>SQL</th>\n",
       "    </tr>\n",
       "    <tr>\n",
       "      <th>question_id</th>\n",
       "      <th></th>\n",
       "      <th></th>\n",
       "      <th></th>\n",
       "    </tr>\n",
       "  </thead>\n",
       "  <tbody>\n",
       "    <tr>\n",
       "      <th>0</th>\n",
       "      <td>department_management</td>\n",
       "      <td>How many heads of the departments are older th...</td>\n",
       "      <td>SELECT count(*) FROM head WHERE age  &gt;  56</td>\n",
       "    </tr>\n",
       "    <tr>\n",
       "      <th>1</th>\n",
       "      <td>department_management</td>\n",
       "      <td>List the name, born state and age of the heads...</td>\n",
       "      <td>SELECT name ,  born_state ,  age FROM head ORD...</td>\n",
       "    </tr>\n",
       "    <tr>\n",
       "      <th>2</th>\n",
       "      <td>department_management</td>\n",
       "      <td>List the creation year, name and budget of eac...</td>\n",
       "      <td>SELECT creation ,  name ,  budget_in_billions ...</td>\n",
       "    </tr>\n",
       "    <tr>\n",
       "      <th>3</th>\n",
       "      <td>department_management</td>\n",
       "      <td>What are the maximum and minimum budget of the...</td>\n",
       "      <td>SELECT max(budget_in_billions) ,  min(budget_i...</td>\n",
       "    </tr>\n",
       "    <tr>\n",
       "      <th>4</th>\n",
       "      <td>department_management</td>\n",
       "      <td>What is the average number of employees of the...</td>\n",
       "      <td>SELECT avg(num_employees) FROM department WHER...</td>\n",
       "    </tr>\n",
       "  </tbody>\n",
       "</table>\n",
       "</div>"
      ],
      "text/plain": [
       "                             db_id  \\\n",
       "question_id                          \n",
       "0            department_management   \n",
       "1            department_management   \n",
       "2            department_management   \n",
       "3            department_management   \n",
       "4            department_management   \n",
       "\n",
       "                                                      question  \\\n",
       "question_id                                                      \n",
       "0            How many heads of the departments are older th...   \n",
       "1            List the name, born state and age of the heads...   \n",
       "2            List the creation year, name and budget of eac...   \n",
       "3            What are the maximum and minimum budget of the...   \n",
       "4            What is the average number of employees of the...   \n",
       "\n",
       "                                                           SQL  \n",
       "question_id                                                     \n",
       "0                   SELECT count(*) FROM head WHERE age  >  56  \n",
       "1            SELECT name ,  born_state ,  age FROM head ORD...  \n",
       "2            SELECT creation ,  name ,  budget_in_billions ...  \n",
       "3            SELECT max(budget_in_billions) ,  min(budget_i...  \n",
       "4            SELECT avg(num_employees) FROM department WHER...  "
      ]
     },
     "execution_count": 12,
     "metadata": {},
     "output_type": "execute_result"
    }
   ],
   "source": [
    "df_bird.head()"
   ]
  },
  {
   "cell_type": "code",
   "execution_count": 13,
   "metadata": {},
   "outputs": [],
   "source": [
    "df_bird_sql = df_bird['SQL'].copy()"
   ]
  },
  {
   "cell_type": "code",
   "execution_count": 14,
   "metadata": {},
   "outputs": [],
   "source": [
    "df_bird_sql_wo_nested_queries = df_bird_sql[~df_bird_sql.str.contains('inner join', case=False)]\n",
    "print)df_bird_sql_wo_nested_queries.str.len().describe())\n",
    "df_bird_sql_wo_nested_queries[~df_bird_sql_wo_nested_queries.str.contains(r'\\(.*\\bSELECT\\b.*\\)', regex=True)].str.len().describe()"
   ]
  },
  {
   "cell_type": "code",
   "execution_count": 15,
   "metadata": {},
   "outputs": [
    {
     "data": {
      "text/plain": [
       "count    7000.000000\n",
       "mean      109.642429\n",
       "std        64.809316\n",
       "min        18.000000\n",
       "25%        62.000000\n",
       "50%        93.000000\n",
       "75%       146.250000\n",
       "max       577.000000\n",
       "Name: SQL, dtype: float64"
      ]
     },
     "execution_count": 15,
     "metadata": {},
     "output_type": "execute_result"
    }
   ],
   "source": [
    "df_bird_sql_wo_nested_queries.str.len().describe()"
   ]
  },
  {
   "cell_type": "code",
   "execution_count": 16,
   "metadata": {},
   "outputs": [
    {
     "data": {
      "text/plain": [
       "'SELECT count(*) FROM head WHERE age  >  56'"
      ]
     },
     "execution_count": 16,
     "metadata": {},
     "output_type": "execute_result"
    }
   ],
   "source": [
    "df_bird_sql_wo_nested_queries.iloc[0]"
   ]
  },
  {
   "cell_type": "code",
   "execution_count": 17,
   "metadata": {},
   "outputs": [
    {
     "data": {
      "text/plain": [
       "count    6464.000000\n",
       "mean      107.559406\n",
       "std        64.262723\n",
       "min        18.000000\n",
       "25%        60.000000\n",
       "50%        90.000000\n",
       "75%       146.000000\n",
       "max       577.000000\n",
       "Name: SQL, dtype: float64"
      ]
     },
     "execution_count": 17,
     "metadata": {},
     "output_type": "execute_result"
    }
   ],
   "source": []
  },
  {
   "cell_type": "code",
   "execution_count": null,
   "metadata": {},
   "outputs": [],
   "source": [
    "# BIRD\n",
    "# count    336.000000\n",
    "# mean      90.845238\n",
    "# std       43.095311\n",
    "# min       29.000000\n",
    "# 25%       63.750000\n",
    "# 50%       81.000000\n",
    "# 75%      109.250000\n",
    "# max      542.000000\n",
    "# Name: SQL, dtype: float64"
   ]
  },
  {
   "cell_type": "code",
   "execution_count": null,
   "metadata": {},
   "outputs": [],
   "source": [
    "# SPIDER DEV\n",
    "# count    958.000000\n",
    "# mean     104.390397\n",
    "# std       60.025456\n",
    "# min       20.000000\n",
    "# 25%       61.000000\n",
    "# 50%       87.000000\n",
    "# 75%      136.000000\n",
    "# max      422.000000\n",
    "# Name: SQL, dtype: float64"
   ]
  },
  {
   "cell_type": "code",
   "execution_count": null,
   "metadata": {},
   "outputs": [],
   "source": [
    "# SPIDER TRAIN\n",
    "# count    6464.000000\n",
    "# mean      107.559406\n",
    "# std        64.262723\n",
    "# min        18.000000\n",
    "# 25%        60.000000\n",
    "# 50%        90.000000\n",
    "# 75%       146.000000\n",
    "# max       577.000000\n",
    "# Name: SQL, dtype: float64"
   ]
  }
 ],
 "metadata": {
  "kernelspec": {
   "display_name": "e-zero",
   "language": "python",
   "name": "python3"
  },
  "language_info": {
   "codemirror_mode": {
    "name": "ipython",
    "version": 3
   },
   "file_extension": ".py",
   "mimetype": "text/x-python",
   "name": "python",
   "nbconvert_exporter": "python",
   "pygments_lexer": "ipython3",
   "version": "3.12.3"
  }
 },
 "nbformat": 4,
 "nbformat_minor": 2
}
