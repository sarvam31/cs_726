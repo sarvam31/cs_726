{
 "cells": [
  {
   "cell_type": "code",
   "execution_count": 1,
   "metadata": {},
   "outputs": [],
   "source": [
    "# Format: \n",
    "# Level 0: Q | RS -> [node_begin](<value>,<node_phi>,<node_phi>)[node_end] | ...\n",
    "# Level 1: Q | RS | <node_embeddings> -> [node_begin](<op>,[node_1],[node_2])[node_end] | [node_begin](<op>,[node_3],[node_phi])[node_end] | ...\n",
    "# Level 2: Q | RS | <node_embeddings> -> [node_begin](<op>,[node_1],[node_2])[node_end] | [node_begin](<op>,[node_3],[node_4])[node_end] | ...\n",
    "# .\n",
    "# .\n",
    "# .\n",
    "# Level 9: Q | RS | <node_embeddings> -> [node_begin](<op>,[node_1],[node_2])[node_end]"
   ]
  },
  {
   "cell_type": "code",
   "execution_count": 10,
   "metadata": {},
   "outputs": [],
   "source": [
    "from anytree import Node, RenderTree, LevelOrderIter\n",
    "import json\n",
    "from mo_sql_parsing import parse\n",
    "\n",
    "import pandas as pd\n",
    "from random import sample\n",
    "\n",
    "from ra_preproc import ast_to_ra"
   ]
  },
  {
   "cell_type": "code",
   "execution_count": 11,
   "metadata": {},
   "outputs": [],
   "source": [
    "with open('/root/repo/CS726/parsed/bird_dev_parsed.json', 'r') as f:\n",
    "    bird_dev = pd.DataFrame(json.load(f))"
   ]
  },
  {
   "cell_type": "code",
   "execution_count": 12,
   "metadata": {},
   "outputs": [
    {
     "data": {
      "text/html": [
       "<div>\n",
       "<style scoped>\n",
       "    .dataframe tbody tr th:only-of-type {\n",
       "        vertical-align: middle;\n",
       "    }\n",
       "\n",
       "    .dataframe tbody tr th {\n",
       "        vertical-align: top;\n",
       "    }\n",
       "\n",
       "    .dataframe thead th {\n",
       "        text-align: right;\n",
       "    }\n",
       "</style>\n",
       "<table border=\"1\" class=\"dataframe\">\n",
       "  <thead>\n",
       "    <tr style=\"text-align: right;\">\n",
       "      <th></th>\n",
       "      <th>db_id</th>\n",
       "      <th>question</th>\n",
       "      <th>evidence</th>\n",
       "      <th>SQL</th>\n",
       "      <th>difficulty</th>\n",
       "      <th>SQL_parse</th>\n",
       "    </tr>\n",
       "  </thead>\n",
       "  <tbody>\n",
       "    <tr>\n",
       "      <th>0</th>\n",
       "      <td>california_schools</td>\n",
       "      <td>What is the highest eligible free rate for K-1...</td>\n",
       "      <td>Eligible free rate for K-12 = `Free Meal Count...</td>\n",
       "      <td>SELECT `Free Meal Count (K-12)` / `Enrollment ...</td>\n",
       "      <td>simple</td>\n",
       "      <td>{'select': {'value': {'div': ['Free Meal Count...</td>\n",
       "    </tr>\n",
       "    <tr>\n",
       "      <th>1</th>\n",
       "      <td>california_schools</td>\n",
       "      <td>Please list the lowest three eligible free rat...</td>\n",
       "      <td>Eligible free rates for students aged 5-17 = `...</td>\n",
       "      <td>SELECT `Free Meal Count (Ages 5-17)` / `Enroll...</td>\n",
       "      <td>moderate</td>\n",
       "      <td>{'select': {'value': {'div': ['Free Meal Count...</td>\n",
       "    </tr>\n",
       "    <tr>\n",
       "      <th>2</th>\n",
       "      <td>california_schools</td>\n",
       "      <td>Please list the zip code of all the charter sc...</td>\n",
       "      <td>Charter schools refers to `Charter School (Y/N...</td>\n",
       "      <td>SELECT T2.Zip FROM frpm AS T1 INNER JOIN schoo...</td>\n",
       "      <td>simple</td>\n",
       "      <td>{'select': {'value': 'T2.Zip'}, 'from': [{'val...</td>\n",
       "    </tr>\n",
       "    <tr>\n",
       "      <th>3</th>\n",
       "      <td>california_schools</td>\n",
       "      <td>What is the unabbreviated mailing address of t...</td>\n",
       "      <td></td>\n",
       "      <td>SELECT T2.MailStreet FROM frpm AS T1 INNER JOI...</td>\n",
       "      <td>simple</td>\n",
       "      <td>{'select': {'value': 'T2.MailStreet'}, 'from':...</td>\n",
       "    </tr>\n",
       "    <tr>\n",
       "      <th>4</th>\n",
       "      <td>california_schools</td>\n",
       "      <td>Please list the phone numbers of the direct ch...</td>\n",
       "      <td>Charter schools refers to `Charter School (Y/N...</td>\n",
       "      <td>SELECT T2.Phone FROM frpm AS T1 INNER JOIN sch...</td>\n",
       "      <td>moderate</td>\n",
       "      <td>{'select': {'value': 'T2.Phone'}, 'from': [{'v...</td>\n",
       "    </tr>\n",
       "  </tbody>\n",
       "</table>\n",
       "</div>"
      ],
      "text/plain": [
       "                db_id                                           question  \\\n",
       "0  california_schools  What is the highest eligible free rate for K-1...   \n",
       "1  california_schools  Please list the lowest three eligible free rat...   \n",
       "2  california_schools  Please list the zip code of all the charter sc...   \n",
       "3  california_schools  What is the unabbreviated mailing address of t...   \n",
       "4  california_schools  Please list the phone numbers of the direct ch...   \n",
       "\n",
       "                                            evidence  \\\n",
       "0  Eligible free rate for K-12 = `Free Meal Count...   \n",
       "1  Eligible free rates for students aged 5-17 = `...   \n",
       "2  Charter schools refers to `Charter School (Y/N...   \n",
       "3                                                      \n",
       "4  Charter schools refers to `Charter School (Y/N...   \n",
       "\n",
       "                                                 SQL difficulty  \\\n",
       "0  SELECT `Free Meal Count (K-12)` / `Enrollment ...     simple   \n",
       "1  SELECT `Free Meal Count (Ages 5-17)` / `Enroll...   moderate   \n",
       "2  SELECT T2.Zip FROM frpm AS T1 INNER JOIN schoo...     simple   \n",
       "3  SELECT T2.MailStreet FROM frpm AS T1 INNER JOI...     simple   \n",
       "4  SELECT T2.Phone FROM frpm AS T1 INNER JOIN sch...   moderate   \n",
       "\n",
       "                                           SQL_parse  \n",
       "0  {'select': {'value': {'div': ['Free Meal Count...  \n",
       "1  {'select': {'value': {'div': ['Free Meal Count...  \n",
       "2  {'select': {'value': 'T2.Zip'}, 'from': [{'val...  \n",
       "3  {'select': {'value': 'T2.MailStreet'}, 'from':...  \n",
       "4  {'select': {'value': 'T2.Phone'}, 'from': [{'v...  "
      ]
     },
     "execution_count": 12,
     "metadata": {},
     "output_type": "execute_result"
    }
   ],
   "source": [
    "bird_dev.head()"
   ]
  },
  {
   "cell_type": "code",
   "execution_count": 13,
   "metadata": {},
   "outputs": [],
   "source": [
    "sql = \"SELECT name, age FROM Employees WHERE department = 'HR' AND title='Manager' OR age>=40\"\n",
    "# sql = \"select count(*) from employees\""
   ]
  },
  {
   "cell_type": "code",
   "execution_count": 14,
   "metadata": {},
   "outputs": [],
   "source": [
    "def balance_tree(node, ht):\n",
    "    if node.height == ht:\n",
    "        if node.children:\n",
    "            for child in node.children:\n",
    "                balance_tree(child, ht - 1)\n",
    "        return node\n",
    "    else:\n",
    "        keep_node = Node(\"keep\", parent=node.parent, children=[node])\n",
    "        keep_node.n_type = node.n_type\n",
    "        node.parent = keep_node\n",
    "        balance_tree(node, ht - 1)"
   ]
  },
  {
   "cell_type": "code",
   "execution_count": 15,
   "metadata": {},
   "outputs": [],
   "source": [
    "def fix_height(node, ht):\n",
    "    while node.height != ht:\n",
    "        node = Node(\"keep\", children=[node], n_type=node.n_type)\n",
    "    return node"
   ]
  },
  {
   "cell_type": "code",
   "execution_count": 7,
   "metadata": {},
   "outputs": [],
   "source": []
  },
  {
   "cell_type": "code",
   "execution_count": 17,
   "metadata": {},
   "outputs": [],
   "source": [
    "def extract_nodes_at_level(\n",
    "    nodes, level, nodes_prev_lvl_order=None, node_phi=\"[node_phi]\", shuffle=False\n",
    "):\n",
    "    nodes_repr = []\n",
    "    nodes_order = {}\n",
    "    if level == 0:\n",
    "        for i, node in enumerate(nodes[level]):\n",
    "            nodes_repr.append((node.val, node_phi, node_phi, node.n_type))\n",
    "            nodes_order[hash(node)] = i\n",
    "    else:\n",
    "        assert nodes_prev_lvl_order is not None\n",
    "        for i, node in enumerate(nodes[level]):\n",
    "            nodes_repr.append(\n",
    "                (\n",
    "                    node.name,\n",
    "                    nodes_prev_lvl_order[hash(node.children[0])],\n",
    "                    (\n",
    "                        nodes_prev_lvl_order[hash(node.children[1])]\n",
    "                        if len(node.children) > 1\n",
    "                        else node_phi\n",
    "                    ),\n",
    "                    node.n_type\n",
    "                )\n",
    "            )\n",
    "            nodes_order[hash(node)] = i\n",
    "    if shuffle:\n",
    "        new_order = sample(range(len(nodes_repr)), len(nodes_repr))\n",
    "        rev_hash = {v: k for k, v in nodes_order.items()}\n",
    "        nodes_repr_ = []\n",
    "        nodes_order_ = {}\n",
    "        for i_, i in enumerate(new_order):\n",
    "            nodes_repr_.append(nodes_repr[i])\n",
    "            nodes_order_[rev_hash[i]] = i_\n",
    "        return nodes_repr_, nodes_order_\n",
    "    return nodes_repr, nodes_order"
   ]
  },
  {
   "cell_type": "code",
   "execution_count": 18,
   "metadata": {},
   "outputs": [
    {
     "name": "stdout",
     "output_type": "stream",
     "text": [
      "Project|Table\n",
      "├── Val_list|Value\n",
      "│   ├── Value|Value\n",
      "│   └── Value|Value\n",
      "└── Selection|Table\n",
      "    ├── Or|Predicate\n",
      "    │   ├── And|Predicate\n",
      "    │   │   ├── eq|Predicate\n",
      "    │   │   │   ├── Value|Value\n",
      "    │   │   │   └── literal|Agg\n",
      "    │   │   │       └── Value|Value\n",
      "    │   │   └── eq|Predicate\n",
      "    │   │       ├── Value|Value\n",
      "    │   │       └── literal|Agg\n",
      "    │   │           └── Value|Value\n",
      "    │   └── gte|Predicate\n",
      "    │       ├── Value|Value\n",
      "    │       └── Value|Value\n",
      "    └── Table|Table\n",
      "keep|Table\n",
      "└── keep|Table\n",
      "    └── keep|Table\n",
      "        └── Project|Table\n",
      "            ├── Selection|Table\n",
      "            │   ├── Or|Predicate\n",
      "            │   │   ├── And|Predicate\n",
      "            │   │   │   ├── eq|Predicate\n",
      "            │   │   │   │   ├── literal|Agg\n",
      "            │   │   │   │   │   └── Value|Value\n",
      "            │   │   │   │   └── keep|Value\n",
      "            │   │   │   │       └── Value|Value\n",
      "            │   │   │   └── eq|Predicate\n",
      "            │   │   │       ├── literal|Agg\n",
      "            │   │   │       │   └── Value|Value\n",
      "            │   │   │       └── keep|Value\n",
      "            │   │   │           └── Value|Value\n",
      "            │   │   └── keep|Predicate\n",
      "            │   │       └── keep|Predicate\n",
      "            │   │           └── gte|Predicate\n",
      "            │   │               ├── Value|Value\n",
      "            │   │               └── Value|Value\n",
      "            │   └── keep|Table\n",
      "            │       └── keep|Table\n",
      "            │           └── keep|Table\n",
      "            │               └── keep|Table\n",
      "            │                   └── Table|Table\n",
      "            └── keep|Value\n",
      "                └── keep|Value\n",
      "                    └── keep|Value\n",
      "                        └── keep|Value\n",
      "                            └── Val_list|Value\n",
      "                                ├── Value|Value\n",
      "                                └── Value|Value\n"
     ]
    }
   ],
   "source": [
    "def print_tree(root):\n",
    "    for pre, fill, node in RenderTree(root):\n",
    "        print(\"%s%s\" % (pre, node.name+\"|\"+node.n_type))\n",
    "        \n",
    "        \n",
    "def get_node_repr(parsed):\n",
    "    root = ast_to_ra(parsed)\n",
    "    print_tree(root)\n",
    "    root = balance_tree(root, root.height)\n",
    "    root = fix_height(root, 9)\n",
    "    print_tree(root)\n",
    "\n",
    "    nodes = {}\n",
    "    for h in range(0, root.height + 1):\n",
    "        nodes[h] = {\n",
    "            v: k\n",
    "            for k, v in enumerate(\n",
    "                LevelOrderIter(root, filter_=lambda n: n.height == h)\n",
    "            )\n",
    "        }\n",
    "    nodes_repr = {}\n",
    "    flag_shuffle = True\n",
    "    for i in range(root.height + 1):\n",
    "        if i == 0:\n",
    "            nodes_repr[0] = extract_nodes_at_level(nodes, 0, shuffle=flag_shuffle)\n",
    "        else:\n",
    "            nodes_repr[i] = extract_nodes_at_level(\n",
    "                nodes, i, nodes_repr[i - 1][1], shuffle=flag_shuffle\n",
    "            )\n",
    "    return nodes_repr\n",
    "\n",
    "parsed_sql = parse(sql)\n",
    "\n",
    "\n",
    "nodes_repr = get_node_repr(parsed_sql)"
   ]
  },
  {
   "cell_type": "code",
   "execution_count": 11,
   "metadata": {},
   "outputs": [],
   "source": [
    "# import re\n",
    "\n",
    "# foo = \"[NODE_BEGIN]name[NODE_END][NODE_BEGIN]country[NODE_END][NODE_BEGIN]age[NODE_END][NODE_BEGIN]singer[NODE_END]\"\n",
    "\n",
    "# foo2 = re.split(r\"\\[NODE_END\\]\", \"[NODE_BEGIN]greater than or equal to[NB]st2[NB]st4[NODE_END][NODE_BEGIN]equal to[NB]st1[NB]st3[NODE_END]\")\n",
    "# print(foo2)\n",
    "# bar = re.match(r\"^\\[NODE_BEGIN\\]([a-z ]+)\\[NB\\](st\\d+)\\[NB\\](st\\d+)\\[NODE_END\\]$\", )\n",
    "# for j in bar.groups():\n",
    "#     print(j)"
   ]
  },
  {
   "cell_type": "code",
   "execution_count": 12,
   "metadata": {},
   "outputs": [],
   "source": [
    "\n",
    "# foo = \"[NODE_BEGIN]greater than or equal to[NB]st2[NB]st4[NODE_END][NODE_BEGIN]equal to[NB]st1[NB]st3[NODE_END]\"\n",
    "\n",
    "# [(x + \"[NODE_END]\") for x in foo.split(\"[NODE_END]\") if x != \"\"]\n",
    "\n",
    "# foo.count(\"[NB]\")\n"
   ]
  },
  {
   "cell_type": "code",
   "execution_count": 10,
   "metadata": {},
   "outputs": [],
   "source": [
    "def get_node_repr_training(node_tuple):\n",
    "    node_repr = '[NODE_BEGIN]'\n",
    "    node_repr += str(node_tuple[0])\n",
    "    if node_tuple[1] != '[node_phi]':\n",
    "        node_repr += '[NB]st' + str(node_tuple[1])\n",
    "    if node_tuple[2] != '[node_phi]':\n",
    "        node_repr += '[NB]st' + str(node_tuple[2])\n",
    "    node_repr += '[NODE_END]'\n",
    "    return node_repr"
   ]
  },
  {
   "cell_type": "code",
   "execution_count": 11,
   "metadata": {},
   "outputs": [
    {
     "name": "stdout",
     "output_type": "stream",
     "text": [
      "keep\n",
      "└── keep\n",
      "    └── keep\n",
      "        └── Project\n",
      "            ├── Selection\n",
      "            │   ├── Or\n",
      "            │   │   ├── And\n",
      "            │   │   │   ├── eq\n",
      "            │   │   │   │   ├── literal\n",
      "            │   │   │   │   │   └── Value\n",
      "            │   │   │   │   └── keep\n",
      "            │   │   │   │       └── Value\n",
      "            │   │   │   └── eq\n",
      "            │   │   │       ├── literal\n",
      "            │   │   │       │   └── Value\n",
      "            │   │   │       └── keep\n",
      "            │   │   │           └── Value\n",
      "            │   │   └── keep\n",
      "            │   │       └── keep\n",
      "            │   │           └── gte\n",
      "            │   │               ├── Value\n",
      "            │   │               └── Value\n",
      "            │   └── keep\n",
      "            │       └── keep\n",
      "            │           └── keep\n",
      "            │               └── keep\n",
      "            │                   └── Table\n",
      "            └── keep\n",
      "                └── keep\n",
      "                    └── keep\n",
      "                        └── keep\n",
      "                            └── Val_list\n",
      "                                ├── Value\n",
      "                                └── Value\n"
     ]
    }
   ],
   "source": [
    "parsed_sql = parse(sql)\n",
    "\n",
    "\n",
    "nodes_repr = get_node_repr(parsed_sql)"
   ]
  },
  {
   "cell_type": "code",
   "execution_count": 14,
   "metadata": {},
   "outputs": [
    {
     "ename": "NameError",
     "evalue": "name 'root' is not defined",
     "output_type": "error",
     "traceback": [
      "\u001b[0;31m---------------------------------------------------------------------------\u001b[0m",
      "\u001b[0;31mNameError\u001b[0m                                 Traceback (most recent call last)",
      "Cell \u001b[0;32mIn[14], line 1\u001b[0m\n\u001b[0;32m----> 1\u001b[0m RenderTree(\u001b[43mroot\u001b[49m)\n",
      "\u001b[0;31mNameError\u001b[0m: name 'root' is not defined"
     ]
    }
   ],
   "source": [
    "RenderTree(root)"
   ]
  },
  {
   "cell_type": "code",
   "execution_count": 15,
   "metadata": {},
   "outputs": [],
   "source": [
    "def gen_training_repr(nodes_repr):\n",
    "    training_repr = []\n",
    "    for k, v in nodes_repr.items():\n",
    "        training_repr.append(\n",
    "            \"\".join([get_node_repr_training(node_tuple) for node_tuple in v[0]])\n",
    "        )\n",
    "    return training_repr"
   ]
  },
  {
   "cell_type": "code",
   "execution_count": 16,
   "metadata": {},
   "outputs": [],
   "source": [
    "training_repr = gen_training_repr(nodes_repr)"
   ]
  },
  {
   "cell_type": "code",
   "execution_count": 17,
   "metadata": {},
   "outputs": [
    {
     "name": "stdout",
     "output_type": "stream",
     "text": [
      "Level 0:\n",
      "[NODE_BEGIN]Manager[NODE_END][NODE_BEGIN]age[NODE_END][NODE_BEGIN]name[NODE_END][NODE_BEGIN]40[NODE_END][NODE_BEGIN]department[NODE_END][NODE_BEGIN]Employees[NODE_END][NODE_BEGIN]title[NODE_END][NODE_BEGIN]age[NODE_END][NODE_BEGIN]HR[NODE_END]\n",
      "Level 1:\n",
      "[NODE_BEGIN]gte[NB]st1[NB]st3[NODE_END][NODE_BEGIN]literal[NB]st8[NODE_END][NODE_BEGIN]keep[NB]st4[NODE_END][NODE_BEGIN]literal[NB]st0[NODE_END][NODE_BEGIN]keep[NB]st6[NODE_END][NODE_BEGIN]keep[NB]st5[NODE_END][NODE_BEGIN]Val_list[NB]st2[NB]st7[NODE_END]\n",
      "Level 2:\n",
      "[NODE_BEGIN]keep[NB]st5[NODE_END][NODE_BEGIN]keep[NB]st0[NODE_END][NODE_BEGIN]eq[NB]st1[NB]st2[NODE_END][NODE_BEGIN]keep[NB]st6[NODE_END][NODE_BEGIN]eq[NB]st3[NB]st4[NODE_END]\n",
      "Level 3:\n",
      "[NODE_BEGIN]keep[NB]st3[NODE_END][NODE_BEGIN]keep[NB]st0[NODE_END][NODE_BEGIN]keep[NB]st1[NODE_END][NODE_BEGIN]And[NB]st2[NB]st4[NODE_END]\n",
      "Level 4:\n",
      "[NODE_BEGIN]keep[NB]st1[NODE_END][NODE_BEGIN]Or[NB]st3[NB]st2[NODE_END][NODE_BEGIN]keep[NB]st0[NODE_END]\n",
      "Level 5:\n",
      "[NODE_BEGIN]Selection[NB]st1[NB]st0[NODE_END][NODE_BEGIN]keep[NB]st2[NODE_END]\n",
      "Level 6:\n",
      "[NODE_BEGIN]Project[NB]st0[NB]st1[NODE_END]\n",
      "Level 7:\n",
      "[NODE_BEGIN]keep[NB]st0[NODE_END]\n",
      "Level 8:\n",
      "[NODE_BEGIN]keep[NB]st0[NODE_END]\n",
      "Level 9:\n",
      "[NODE_BEGIN]keep[NB]st0[NODE_END]\n"
     ]
    }
   ],
   "source": [
    "for i, level in enumerate(training_repr):\n",
    "    print(f\"Level {i}:\")\n",
    "    print(level)"
   ]
  },
  {
   "cell_type": "code",
   "execution_count": null,
   "metadata": {},
   "outputs": [],
   "source": []
  }
 ],
 "metadata": {
  "kernelspec": {
   "display_name": "Python 3",
   "language": "python",
   "name": "python3"
  },
  "language_info": {
   "codemirror_mode": {
    "name": "ipython",
    "version": 3
   },
   "file_extension": ".py",
   "mimetype": "text/x-python",
   "name": "python",
   "nbconvert_exporter": "python",
   "pygments_lexer": "ipython3",
   "version": "3.12.3"
  }
 },
 "nbformat": 4,
 "nbformat_minor": 2
}
